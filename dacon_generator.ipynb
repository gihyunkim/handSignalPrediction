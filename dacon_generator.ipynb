{
  "nbformat": 4,
  "nbformat_minor": 0,
  "metadata": {
    "colab": {
      "name": "dacon_generator.ipynb",
      "provenance": [],
      "collapsed_sections": [],
      "machine_shape": "hm"
    },
    "kernelspec": {
      "name": "python3",
      "display_name": "Python 3"
    },
    "language_info": {
      "name": "python"
    },
    "accelerator": "GPU"
  },
  "cells": [
    {
      "cell_type": "code",
      "metadata": {
        "colab": {
          "base_uri": "https://localhost:8080/"
        },
        "id": "ffSo1J9QPbYJ",
        "outputId": "afd78774-9b14-4c9a-8cde-2e23f8645907"
      },
      "source": [
        "from google.colab import drive\n",
        "drive.mount('/gdrive', force_remount=True)"
      ],
      "execution_count": 1,
      "outputs": [
        {
          "output_type": "stream",
          "name": "stdout",
          "text": [
            "Mounted at /gdrive\n"
          ]
        }
      ]
    },
    {
      "cell_type": "code",
      "metadata": {
        "colab": {
          "base_uri": "https://localhost:8080/"
        },
        "id": "EHbRrkcAly8y",
        "outputId": "a6a84695-d7e6-4fe2-aaff-d957cfa3adac"
      },
      "source": [
        "from tensorflow.python.client import device_lib\n",
        "device_lib.list_local_devices()"
      ],
      "execution_count": 2,
      "outputs": [
        {
          "output_type": "execute_result",
          "data": {
            "text/plain": [
              "[name: \"/device:CPU:0\"\n",
              " device_type: \"CPU\"\n",
              " memory_limit: 268435456\n",
              " locality {\n",
              " }\n",
              " incarnation: 9810569973762879850, name: \"/device:GPU:0\"\n",
              " device_type: \"GPU\"\n",
              " memory_limit: 16185556992\n",
              " locality {\n",
              "   bus_id: 1\n",
              "   links {\n",
              "   }\n",
              " }\n",
              " incarnation: 12238099409443257790\n",
              " physical_device_desc: \"device: 0, name: Tesla P100-PCIE-16GB, pci bus id: 0000:00:04.0, compute capability: 6.0\"]"
            ]
          },
          "metadata": {},
          "execution_count": 2
        }
      ]
    },
    {
      "cell_type": "code",
      "metadata": {
        "colab": {
          "base_uri": "https://localhost:8080/"
        },
        "id": "TbuecIGirgDC",
        "outputId": "f27fb34a-1c87-4e21-b929-2c8f73f99f22"
      },
      "source": [
        "!pip install imgaug --upgrade"
      ],
      "execution_count": 3,
      "outputs": [
        {
          "output_type": "stream",
          "name": "stdout",
          "text": [
            "Requirement already satisfied: imgaug in /usr/local/lib/python3.7/dist-packages (0.2.9)\n",
            "Collecting imgaug\n",
            "  Downloading imgaug-0.4.0-py2.py3-none-any.whl (948 kB)\n",
            "\u001b[K     |████████████████████████████████| 948 kB 5.1 MB/s \n",
            "\u001b[?25hRequirement already satisfied: numpy>=1.15 in /usr/local/lib/python3.7/dist-packages (from imgaug) (1.19.5)\n",
            "Requirement already satisfied: scikit-image>=0.14.2 in /usr/local/lib/python3.7/dist-packages (from imgaug) (0.16.2)\n",
            "Requirement already satisfied: Pillow in /usr/local/lib/python3.7/dist-packages (from imgaug) (7.1.2)\n",
            "Requirement already satisfied: imageio in /usr/local/lib/python3.7/dist-packages (from imgaug) (2.4.1)\n",
            "Requirement already satisfied: matplotlib in /usr/local/lib/python3.7/dist-packages (from imgaug) (3.2.2)\n",
            "Requirement already satisfied: six in /usr/local/lib/python3.7/dist-packages (from imgaug) (1.15.0)\n",
            "Requirement already satisfied: opencv-python in /usr/local/lib/python3.7/dist-packages (from imgaug) (4.1.2.30)\n",
            "Requirement already satisfied: Shapely in /usr/local/lib/python3.7/dist-packages (from imgaug) (1.7.1)\n",
            "Requirement already satisfied: scipy in /usr/local/lib/python3.7/dist-packages (from imgaug) (1.4.1)\n",
            "Requirement already satisfied: networkx>=2.0 in /usr/local/lib/python3.7/dist-packages (from scikit-image>=0.14.2->imgaug) (2.6.3)\n",
            "Requirement already satisfied: PyWavelets>=0.4.0 in /usr/local/lib/python3.7/dist-packages (from scikit-image>=0.14.2->imgaug) (1.1.1)\n",
            "Requirement already satisfied: pyparsing!=2.0.4,!=2.1.2,!=2.1.6,>=2.0.1 in /usr/local/lib/python3.7/dist-packages (from matplotlib->imgaug) (2.4.7)\n",
            "Requirement already satisfied: cycler>=0.10 in /usr/local/lib/python3.7/dist-packages (from matplotlib->imgaug) (0.10.0)\n",
            "Requirement already satisfied: kiwisolver>=1.0.1 in /usr/local/lib/python3.7/dist-packages (from matplotlib->imgaug) (1.3.2)\n",
            "Requirement already satisfied: python-dateutil>=2.1 in /usr/local/lib/python3.7/dist-packages (from matplotlib->imgaug) (2.8.2)\n",
            "Installing collected packages: imgaug\n",
            "  Attempting uninstall: imgaug\n",
            "    Found existing installation: imgaug 0.2.9\n",
            "    Uninstalling imgaug-0.2.9:\n",
            "      Successfully uninstalled imgaug-0.2.9\n",
            "\u001b[31mERROR: pip's dependency resolver does not currently take into account all the packages that are installed. This behaviour is the source of the following dependency conflicts.\n",
            "albumentations 0.1.12 requires imgaug<0.2.7,>=0.2.5, but you have imgaug 0.4.0 which is incompatible.\u001b[0m\n",
            "Successfully installed imgaug-0.4.0\n"
          ]
        }
      ]
    },
    {
      "cell_type": "code",
      "metadata": {
        "id": "TDC-4dlNPJz2"
      },
      "source": [
        "# GPU 환경 설정\n",
        "import os\n",
        "# os.environ[\"CUDA_VISIBLE_DEVICES\"]=\"0\"\n",
        "\n",
        "# 파일경로 설정\n",
        "import json\n",
        "\n",
        "# 데이터 보기\n",
        "import pandas as pd\n",
        "import numpy as np\n",
        "from glob import glob\n",
        "\n",
        "# 이미지데이터 로딩\n",
        "import cv2\n",
        "from tqdm import tqdm\n",
        "\n",
        "# Others\n",
        "import warnings\n",
        "warnings.filterwarnings(\"ignore\")\n",
        "warnings.simplefilter('ignore')"
      ],
      "execution_count": 4,
      "outputs": []
    },
    {
      "cell_type": "markdown",
      "metadata": {
        "id": "wumZod_QYKrA"
      },
      "source": [
        "# Split valid-set from train-set"
      ]
    },
    {
      "cell_type": "code",
      "metadata": {
        "id": "flL9vInrYHM6"
      },
      "source": [
        "src_path = '/gdrive/MyDrive/dacon/handSignal/train'\n"
      ],
      "execution_count": null,
      "outputs": []
    },
    {
      "cell_type": "code",
      "metadata": {
        "id": "n8M_AwT5PwsG"
      },
      "source": [
        "'''Generator'''\n",
        "from tensorflow.keras.utils import Sequence\n",
        "from google.colab.patches import cv2_imshow\n",
        "from imgaug import augmenters as iaa\n",
        "from imgaug.augmentables.batches import UnnormalizedBatch\n",
        "import random\n",
        "\n",
        "class Generator(Sequence):\n",
        "    def __init__(self, src_path, input_shape, batch_size, augs=None, split_ratio=0.9, is_train=True):\n",
        "        \n",
        "        new_image_directory = src_path + '/new_images'\n",
        "        new_train_image_directory = new_image_directory + '/train'\n",
        "\n",
        "        action_information = pd.read_csv(src_path + '/action_information.csv')\n",
        "\n",
        "        classes = pd.get_dummies(action_information[['Label']], columns = ['Label']).to_numpy()\n",
        "        \n",
        "        new_train_image_directories = sorted(glob(new_train_image_directory + '/*'), key = lambda x : int(x.split('/')[-1].split('_')[-1]))\n",
        "\n",
        "        train_answer = []\n",
        "        train_image_directories = sorted(glob(new_train_image_directory + '/*'), key = lambda x : int(x.split('_')[-1]))\n",
        "        for train_image_directory in train_image_directories : \n",
        "            json_path = glob(train_image_directory + '/*.json')[0]\n",
        "            js = json.load(open(json_path))\n",
        "            action = js.get('action')\n",
        "            train_answer.append(action)\n",
        "        \n",
        "        self.class_num = len(classes)\n",
        "        self.is_train = is_train\n",
        "        self.x_data = []\n",
        "        self.y_data = []\n",
        "        self.batch_size = batch_size\n",
        "        self.input_shape = input_shape\n",
        "        self.augs = iaa.Sequential(augs)\n",
        "\n",
        "        for new_train_image_directory, action in tqdm(zip(new_train_image_directories, train_answer), total = len(new_train_image_directories)) : \n",
        "            image_paths = sorted(glob(new_train_image_directory + '/*.jpg'), key = lambda x : int(x.split('/')[-1].replace('.jpg','')))\n",
        "            image_len = len(image_paths)\n",
        "\n",
        "            random.seed(777)\n",
        "            random.shuffle(image_paths)\n",
        "\n",
        "            if is_train:\n",
        "                self.x_data +=image_paths[:round(image_len*split_ratio)]\n",
        "            else:\n",
        "                self.x_data +=image_paths[round(image_len*split_ratio):]\n",
        "            \n",
        "            for i in range(len(self.x_data)):\n",
        "                self.y_data.append(classes[action])\n",
        "\n",
        "        print(len(self.x_data))\n",
        "        self.on_epoch_end()\n",
        "        print(\"Generator Initialized!!\")\n",
        "    \n",
        "    def __len__(self):\n",
        "        return round(len(self.x_data) / self.batch_size)\n",
        "    \n",
        "    def __getitem__(self, idx):\n",
        "        batch_x, batch_y = [], []\n",
        "        batch_index = self.index[idx * self.batch_size:(idx+1)*self.batch_size]\n",
        "        \n",
        "        for batch_i in batch_index:\n",
        "            batch_x.append(self.x_data[batch_i])\n",
        "            batch_y.append(self.y_data[batch_i])\n",
        "        \n",
        "        out_x, out_y = self.data_gen(batch_x, batch_y)\n",
        "        return out_x, out_y\n",
        "\n",
        "    def on_epoch_end(self):\n",
        "        self.index = np.arange(len(self.x_data))\n",
        "        if self.is_train:\n",
        "            np.random.shuffle(self.index)\n",
        "    \n",
        "    def data_gen(self, x ,y):\n",
        "        input_x = np.zeros((self.batch_size, self.input_shape[0], self.input_shape[1], 3), dtype=np.float)\n",
        "        input_y = np.zeros((self.batch_size, self.class_num), dtype=np.float)\n",
        "\n",
        "        imgs = []\n",
        "        for i in range(len(x)):\n",
        "            img = cv2.imread(x[i])\n",
        "            imgs.append(cv2.resize(img, (self.input_shape[0], self.input_shape[1])))\n",
        "        \n",
        "        batch_imgs = UnnormalizedBatch(images=imgs, data=y)\n",
        "        batch_aug_imgs = list(self.augs.augment_batches(batches=batch_imgs))\n",
        "\n",
        "        for i in range(len(x)):\n",
        "            aug_img = batch_aug_imgs[0].images_aug[i]\n",
        "            # cv2_imshow(aug_img)\n",
        "            # cv2_imshow(batch_aug_imgs[0].images_unaug[i])\n",
        "            input_x[i]= aug_img.astype(np.float) / 255.0\n",
        "            input_y[i] = y[i]\n",
        "        return input_x, input_y\n",
        "        \n"
      ],
      "execution_count": 26,
      "outputs": []
    },
    {
      "cell_type": "code",
      "metadata": {
        "id": "KecP5uCOYWrM"
      },
      "source": [
        "from tensorflow.keras.applications import EfficientNetB7 # 모델은 가벼운 모델을 사용합니다.\n",
        "from tensorflow.keras.layers import *\n",
        "from tensorflow.keras.models import Model\n",
        "\n",
        "def buildModel():\n",
        "    baseModel = EfficientNetB7(input_shape = (224,224,3), weights='imagenet', include_top=False, )\n",
        "    baseModel.trainable = True\n",
        "    model_in = Input(shape = (224,224,3))\n",
        "    base_model = baseModel(model_in)\n",
        "    head_model = MaxPooling2D(pool_size=(7, 7))(base_model)\n",
        "    head_model = Flatten(name=\"flatten\")(head_model)\n",
        "    head_model = Dense(256, activation = 'relu')(head_model)\n",
        "    head_model = Dropout(0.2)(head_model)\n",
        "    head_model = Dense(32, activation = 'relu')(head_model)\n",
        "    head_model = Dropout(0.2)(head_model)\n",
        "    head_model = Dense(8, activation = 'relu')(head_model)\n",
        "    head_model = Dropout(0.2)(head_model)\n",
        "    model_out = Dense(6, activation=\"softmax\")(head_model)\n",
        "\n",
        "    model = Model(inputs=model_in, outputs=model_out)\n",
        "    return model"
      ],
      "execution_count": 10,
      "outputs": []
    },
    {
      "cell_type": "code",
      "metadata": {
        "id": "PEB3bgtjqQge"
      },
      "source": [
        "import imgaug.augmenters as iaa\n",
        "\n",
        "augs =[\n",
        "    #    iaa.Fliplr(0.5),\n",
        "       \n",
        "        # iaa.Sometimes(0.2,iaa.Sharpen()),\n",
        "       \n",
        "        iaa.SomeOf((0,2),[\n",
        "            iaa.MultiplyAndAddToBrightness(),\n",
        "            iaa.GammaContrast()\n",
        "        ]),\n",
        "\n",
        "        # iaa.SomeOf((0,1), [\n",
        "        #     iaa.Sometimes(0.7, iaa.AdditiveGaussianNoise()),\n",
        "        # ]),\n",
        "\n",
        "        iaa.SomeOf((0,2),[\n",
        "            iaa.ScaleX((0.8, 1.2)),\n",
        "            iaa.ScaleY((0.8, 1.2)),\n",
        "        ]),\n",
        "\n",
        "]"
      ],
      "execution_count": 11,
      "outputs": []
    },
    {
      "cell_type": "code",
      "metadata": {
        "colab": {
          "base_uri": "https://localhost:8080/"
        },
        "id": "LrsHxoUcfNqt",
        "outputId": "fbf14d1d-61b2-43d9-dd95-37e73efe4f20"
      },
      "source": [
        "# Modeling\n",
        "import tensorflow as tf\n",
        "from tensorflow.keras.preprocessing import image\n",
        "from tensorflow.keras.optimizers import SGD\n",
        "from tensorflow.keras.callbacks import ReduceLROnPlateau, ModelCheckpoint\n",
        "\n",
        "'''Train options'''\n",
        "src_path = '/gdrive/MyDrive/dacon/handSignal'\n",
        "batch_size = 16\n",
        "input_shape = (224, 224)\n",
        "epochs = 2000\n",
        "lr = 1e-3\n",
        "model_name = \"effient\"\n",
        "filename = src_path+\"/save_weights/%s_{epoch:05d}.h5\"%(model_name)\n",
        "\n",
        "callback = [ReduceLROnPlateau(monitor='val_loss', factor=0.1, patience=5),\n",
        "            ModelCheckpoint(filename, monitor=\"val_loss\", save_best_only=True)]\n",
        "\n",
        "'''Build Model'''\n",
        "with tf.device('/device:GPU:0'):\n",
        "    model = buildModel()\n",
        "    # model.load_weights(src_path+\"/save_weights/effient_00039.h5\")\n",
        "    model.compile(loss='categorical_crossentropy',optimizer=SGD(learning_rate=lr, momentum=0.9), metrics=['accuracy'])\n",
        "\n",
        "    '''Train'''\n",
        "    train_gen = Generator(src_path, input_shape, batch_size, augs=augs, is_train=True)\n",
        "    val_gen = Generator(src_path, input_shape, batch_size, augs=[], is_train=False)\n",
        "    model.fit_generator(train_gen, validation_data=val_gen, epochs=epochs, max_queue_size=50, workers=32, callbacks=callback)"
      ],
      "execution_count": null,
      "outputs": [
        {
          "output_type": "stream",
          "name": "stderr",
          "text": [
            "100%|██████████| 142/142 [00:00<00:00, 155.67it/s]\n"
          ]
        },
        {
          "output_type": "stream",
          "name": "stdout",
          "text": [
            "19993\n",
            "Generator Initialized!!\n"
          ]
        },
        {
          "output_type": "stream",
          "name": "stderr",
          "text": [
            "100%|██████████| 142/142 [00:00<00:00, 313.35it/s]\n"
          ]
        },
        {
          "output_type": "stream",
          "name": "stdout",
          "text": [
            "2225\n",
            "Generator Initialized!!\n",
            "Epoch 1/2000\n"
          ]
        }
      ]
    },
    {
      "cell_type": "code",
      "metadata": {
        "id": "AN_BPbBcpFlL"
      },
      "source": [
        "!nvidia-smi"
      ],
      "execution_count": null,
      "outputs": []
    },
    {
      "cell_type": "code",
      "metadata": {
        "colab": {
          "base_uri": "https://localhost:8080/",
          "height": 430
        },
        "id": "PtYeR-TndYNW",
        "outputId": "d7de6688-2ba4-4912-c586-1012b2720ca8"
      },
      "source": [
        "'''for test generator'''\n",
        "src_path = '/gdrive/MyDrive/dacon/handSignal'\n",
        "batch_size = 1\n",
        "input_shape = (224, 224)\n",
        "augs= [\n",
        "       iaa.Fliplr(1.0)\n",
        "]\n",
        "gen = Generator(src_path, input_shape, batch_size, augs=augs, is_train=True)\n",
        "gen.__getitem__(0)"
      ],
      "execution_count": 24,
      "outputs": [
        {
          "output_type": "stream",
          "name": "stderr",
          "text": [
            "  0%|          | 0/142 [00:00<?, ?it/s]"
          ]
        },
        {
          "output_type": "stream",
          "name": "stdout",
          "text": [
            "['/gdrive/MyDrive/dacon/handSignal/new_images/train/file_0/30.jpg', '/gdrive/MyDrive/dacon/handSignal/new_images/train/file_0/36.jpg', '/gdrive/MyDrive/dacon/handSignal/new_images/train/file_0/62.jpg', '/gdrive/MyDrive/dacon/handSignal/new_images/train/file_0/83.jpg', '/gdrive/MyDrive/dacon/handSignal/new_images/train/file_0/150.jpg', '/gdrive/MyDrive/dacon/handSignal/new_images/train/file_0/143.jpg', '/gdrive/MyDrive/dacon/handSignal/new_images/train/file_0/84.jpg', '/gdrive/MyDrive/dacon/handSignal/new_images/train/file_0/98.jpg', '/gdrive/MyDrive/dacon/handSignal/new_images/train/file_0/114.jpg', '/gdrive/MyDrive/dacon/handSignal/new_images/train/file_0/142.jpg', '/gdrive/MyDrive/dacon/handSignal/new_images/train/file_0/58.jpg', '/gdrive/MyDrive/dacon/handSignal/new_images/train/file_0/41.jpg', '/gdrive/MyDrive/dacon/handSignal/new_images/train/file_0/24.jpg', '/gdrive/MyDrive/dacon/handSignal/new_images/train/file_0/10.jpg', '/gdrive/MyDrive/dacon/handSignal/new_images/train/file_0/146.jpg', '/gdrive/MyDrive/dacon/handSignal/new_images/train/file_0/4.jpg', '/gdrive/MyDrive/dacon/handSignal/new_images/train/file_0/127.jpg', '/gdrive/MyDrive/dacon/handSignal/new_images/train/file_0/14.jpg', '/gdrive/MyDrive/dacon/handSignal/new_images/train/file_0/92.jpg', '/gdrive/MyDrive/dacon/handSignal/new_images/train/file_0/64.jpg', '/gdrive/MyDrive/dacon/handSignal/new_images/train/file_0/68.jpg', '/gdrive/MyDrive/dacon/handSignal/new_images/train/file_0/82.jpg', '/gdrive/MyDrive/dacon/handSignal/new_images/train/file_0/54.jpg', '/gdrive/MyDrive/dacon/handSignal/new_images/train/file_0/12.jpg', '/gdrive/MyDrive/dacon/handSignal/new_images/train/file_0/87.jpg', '/gdrive/MyDrive/dacon/handSignal/new_images/train/file_0/66.jpg', '/gdrive/MyDrive/dacon/handSignal/new_images/train/file_0/50.jpg', '/gdrive/MyDrive/dacon/handSignal/new_images/train/file_0/72.jpg', '/gdrive/MyDrive/dacon/handSignal/new_images/train/file_0/93.jpg', '/gdrive/MyDrive/dacon/handSignal/new_images/train/file_0/85.jpg', '/gdrive/MyDrive/dacon/handSignal/new_images/train/file_0/67.jpg', '/gdrive/MyDrive/dacon/handSignal/new_images/train/file_0/134.jpg', '/gdrive/MyDrive/dacon/handSignal/new_images/train/file_0/101.jpg', '/gdrive/MyDrive/dacon/handSignal/new_images/train/file_0/100.jpg', '/gdrive/MyDrive/dacon/handSignal/new_images/train/file_0/11.jpg', '/gdrive/MyDrive/dacon/handSignal/new_images/train/file_0/56.jpg', '/gdrive/MyDrive/dacon/handSignal/new_images/train/file_0/20.jpg', '/gdrive/MyDrive/dacon/handSignal/new_images/train/file_0/19.jpg', '/gdrive/MyDrive/dacon/handSignal/new_images/train/file_0/73.jpg', '/gdrive/MyDrive/dacon/handSignal/new_images/train/file_0/34.jpg', '/gdrive/MyDrive/dacon/handSignal/new_images/train/file_0/17.jpg', '/gdrive/MyDrive/dacon/handSignal/new_images/train/file_0/74.jpg', '/gdrive/MyDrive/dacon/handSignal/new_images/train/file_0/9.jpg', '/gdrive/MyDrive/dacon/handSignal/new_images/train/file_0/52.jpg', '/gdrive/MyDrive/dacon/handSignal/new_images/train/file_0/89.jpg', '/gdrive/MyDrive/dacon/handSignal/new_images/train/file_0/81.jpg', '/gdrive/MyDrive/dacon/handSignal/new_images/train/file_0/105.jpg', '/gdrive/MyDrive/dacon/handSignal/new_images/train/file_0/152.jpg', '/gdrive/MyDrive/dacon/handSignal/new_images/train/file_0/96.jpg', '/gdrive/MyDrive/dacon/handSignal/new_images/train/file_0/27.jpg', '/gdrive/MyDrive/dacon/handSignal/new_images/train/file_0/137.jpg', '/gdrive/MyDrive/dacon/handSignal/new_images/train/file_0/140.jpg', '/gdrive/MyDrive/dacon/handSignal/new_images/train/file_0/118.jpg', '/gdrive/MyDrive/dacon/handSignal/new_images/train/file_0/78.jpg', '/gdrive/MyDrive/dacon/handSignal/new_images/train/file_0/158.jpg', '/gdrive/MyDrive/dacon/handSignal/new_images/train/file_0/47.jpg', '/gdrive/MyDrive/dacon/handSignal/new_images/train/file_0/121.jpg', '/gdrive/MyDrive/dacon/handSignal/new_images/train/file_0/6.jpg', '/gdrive/MyDrive/dacon/handSignal/new_images/train/file_0/29.jpg', '/gdrive/MyDrive/dacon/handSignal/new_images/train/file_0/110.jpg', '/gdrive/MyDrive/dacon/handSignal/new_images/train/file_0/16.jpg', '/gdrive/MyDrive/dacon/handSignal/new_images/train/file_0/103.jpg', '/gdrive/MyDrive/dacon/handSignal/new_images/train/file_0/145.jpg', '/gdrive/MyDrive/dacon/handSignal/new_images/train/file_0/79.jpg', '/gdrive/MyDrive/dacon/handSignal/new_images/train/file_0/44.jpg', '/gdrive/MyDrive/dacon/handSignal/new_images/train/file_0/59.jpg', '/gdrive/MyDrive/dacon/handSignal/new_images/train/file_0/31.jpg', '/gdrive/MyDrive/dacon/handSignal/new_images/train/file_0/15.jpg', '/gdrive/MyDrive/dacon/handSignal/new_images/train/file_0/123.jpg', '/gdrive/MyDrive/dacon/handSignal/new_images/train/file_0/149.jpg', '/gdrive/MyDrive/dacon/handSignal/new_images/train/file_0/5.jpg', '/gdrive/MyDrive/dacon/handSignal/new_images/train/file_0/57.jpg', '/gdrive/MyDrive/dacon/handSignal/new_images/train/file_0/129.jpg', '/gdrive/MyDrive/dacon/handSignal/new_images/train/file_0/48.jpg', '/gdrive/MyDrive/dacon/handSignal/new_images/train/file_0/107.jpg', '/gdrive/MyDrive/dacon/handSignal/new_images/train/file_0/106.jpg', '/gdrive/MyDrive/dacon/handSignal/new_images/train/file_0/70.jpg', '/gdrive/MyDrive/dacon/handSignal/new_images/train/file_0/115.jpg', '/gdrive/MyDrive/dacon/handSignal/new_images/train/file_0/51.jpg', '/gdrive/MyDrive/dacon/handSignal/new_images/train/file_0/94.jpg', '/gdrive/MyDrive/dacon/handSignal/new_images/train/file_0/108.jpg', '/gdrive/MyDrive/dacon/handSignal/new_images/train/file_0/132.jpg', '/gdrive/MyDrive/dacon/handSignal/new_images/train/file_0/155.jpg', '/gdrive/MyDrive/dacon/handSignal/new_images/train/file_0/22.jpg', '/gdrive/MyDrive/dacon/handSignal/new_images/train/file_0/60.jpg', '/gdrive/MyDrive/dacon/handSignal/new_images/train/file_0/117.jpg', '/gdrive/MyDrive/dacon/handSignal/new_images/train/file_0/133.jpg', '/gdrive/MyDrive/dacon/handSignal/new_images/train/file_0/148.jpg', '/gdrive/MyDrive/dacon/handSignal/new_images/train/file_0/61.jpg', '/gdrive/MyDrive/dacon/handSignal/new_images/train/file_0/157.jpg', '/gdrive/MyDrive/dacon/handSignal/new_images/train/file_0/45.jpg', '/gdrive/MyDrive/dacon/handSignal/new_images/train/file_0/39.jpg', '/gdrive/MyDrive/dacon/handSignal/new_images/train/file_0/102.jpg', '/gdrive/MyDrive/dacon/handSignal/new_images/train/file_0/43.jpg', '/gdrive/MyDrive/dacon/handSignal/new_images/train/file_0/90.jpg', '/gdrive/MyDrive/dacon/handSignal/new_images/train/file_0/116.jpg', '/gdrive/MyDrive/dacon/handSignal/new_images/train/file_0/76.jpg', '/gdrive/MyDrive/dacon/handSignal/new_images/train/file_0/130.jpg', '/gdrive/MyDrive/dacon/handSignal/new_images/train/file_0/75.jpg', '/gdrive/MyDrive/dacon/handSignal/new_images/train/file_0/77.jpg', '/gdrive/MyDrive/dacon/handSignal/new_images/train/file_0/109.jpg', '/gdrive/MyDrive/dacon/handSignal/new_images/train/file_0/42.jpg', '/gdrive/MyDrive/dacon/handSignal/new_images/train/file_0/8.jpg', '/gdrive/MyDrive/dacon/handSignal/new_images/train/file_0/131.jpg', '/gdrive/MyDrive/dacon/handSignal/new_images/train/file_0/156.jpg', '/gdrive/MyDrive/dacon/handSignal/new_images/train/file_0/126.jpg', '/gdrive/MyDrive/dacon/handSignal/new_images/train/file_0/128.jpg', '/gdrive/MyDrive/dacon/handSignal/new_images/train/file_0/138.jpg', '/gdrive/MyDrive/dacon/handSignal/new_images/train/file_0/2.jpg', '/gdrive/MyDrive/dacon/handSignal/new_images/train/file_0/38.jpg', '/gdrive/MyDrive/dacon/handSignal/new_images/train/file_0/49.jpg', '/gdrive/MyDrive/dacon/handSignal/new_images/train/file_0/154.jpg', '/gdrive/MyDrive/dacon/handSignal/new_images/train/file_0/88.jpg', '/gdrive/MyDrive/dacon/handSignal/new_images/train/file_0/23.jpg', '/gdrive/MyDrive/dacon/handSignal/new_images/train/file_0/144.jpg', '/gdrive/MyDrive/dacon/handSignal/new_images/train/file_0/80.jpg', '/gdrive/MyDrive/dacon/handSignal/new_images/train/file_0/86.jpg', '/gdrive/MyDrive/dacon/handSignal/new_images/train/file_0/112.jpg', '/gdrive/MyDrive/dacon/handSignal/new_images/train/file_0/69.jpg', '/gdrive/MyDrive/dacon/handSignal/new_images/train/file_0/25.jpg', '/gdrive/MyDrive/dacon/handSignal/new_images/train/file_0/136.jpg', '/gdrive/MyDrive/dacon/handSignal/new_images/train/file_0/37.jpg', '/gdrive/MyDrive/dacon/handSignal/new_images/train/file_0/124.jpg', '/gdrive/MyDrive/dacon/handSignal/new_images/train/file_0/111.jpg', '/gdrive/MyDrive/dacon/handSignal/new_images/train/file_0/21.jpg', '/gdrive/MyDrive/dacon/handSignal/new_images/train/file_0/125.jpg', '/gdrive/MyDrive/dacon/handSignal/new_images/train/file_0/122.jpg', '/gdrive/MyDrive/dacon/handSignal/new_images/train/file_0/141.jpg', '/gdrive/MyDrive/dacon/handSignal/new_images/train/file_0/53.jpg', '/gdrive/MyDrive/dacon/handSignal/new_images/train/file_0/1.jpg', '/gdrive/MyDrive/dacon/handSignal/new_images/train/file_0/0.jpg', '/gdrive/MyDrive/dacon/handSignal/new_images/train/file_0/33.jpg', '/gdrive/MyDrive/dacon/handSignal/new_images/train/file_0/32.jpg', '/gdrive/MyDrive/dacon/handSignal/new_images/train/file_0/113.jpg', '/gdrive/MyDrive/dacon/handSignal/new_images/train/file_0/35.jpg', '/gdrive/MyDrive/dacon/handSignal/new_images/train/file_0/18.jpg', '/gdrive/MyDrive/dacon/handSignal/new_images/train/file_0/151.jpg', '/gdrive/MyDrive/dacon/handSignal/new_images/train/file_0/99.jpg', '/gdrive/MyDrive/dacon/handSignal/new_images/train/file_0/46.jpg', '/gdrive/MyDrive/dacon/handSignal/new_images/train/file_0/71.jpg', '/gdrive/MyDrive/dacon/handSignal/new_images/train/file_0/104.jpg', '/gdrive/MyDrive/dacon/handSignal/new_images/train/file_0/55.jpg', '/gdrive/MyDrive/dacon/handSignal/new_images/train/file_0/3.jpg', '/gdrive/MyDrive/dacon/handSignal/new_images/train/file_0/147.jpg', '/gdrive/MyDrive/dacon/handSignal/new_images/train/file_0/26.jpg', '/gdrive/MyDrive/dacon/handSignal/new_images/train/file_0/139.jpg', '/gdrive/MyDrive/dacon/handSignal/new_images/train/file_0/97.jpg', '/gdrive/MyDrive/dacon/handSignal/new_images/train/file_0/153.jpg', '/gdrive/MyDrive/dacon/handSignal/new_images/train/file_0/120.jpg', '/gdrive/MyDrive/dacon/handSignal/new_images/train/file_0/95.jpg', '/gdrive/MyDrive/dacon/handSignal/new_images/train/file_0/28.jpg', '/gdrive/MyDrive/dacon/handSignal/new_images/train/file_0/40.jpg', '/gdrive/MyDrive/dacon/handSignal/new_images/train/file_0/13.jpg', '/gdrive/MyDrive/dacon/handSignal/new_images/train/file_0/63.jpg', '/gdrive/MyDrive/dacon/handSignal/new_images/train/file_0/119.jpg', '/gdrive/MyDrive/dacon/handSignal/new_images/train/file_0/7.jpg', '/gdrive/MyDrive/dacon/handSignal/new_images/train/file_0/135.jpg', '/gdrive/MyDrive/dacon/handSignal/new_images/train/file_0/91.jpg', '/gdrive/MyDrive/dacon/handSignal/new_images/train/file_0/65.jpg', '/gdrive/MyDrive/dacon/handSignal/new_images/train/file_0/159.jpg']\n"
          ]
        },
        {
          "output_type": "stream",
          "name": "stderr",
          "text": [
            "\n"
          ]
        },
        {
          "output_type": "error",
          "ename": "TypeError",
          "evalue": "ignored",
          "traceback": [
            "\u001b[0;31m---------------------------------------------------------------------------\u001b[0m",
            "\u001b[0;31mTypeError\u001b[0m                                 Traceback (most recent call last)",
            "\u001b[0;32m<ipython-input-24-1a854dd83eec>\u001b[0m in \u001b[0;36m<module>\u001b[0;34m()\u001b[0m\n\u001b[1;32m      6\u001b[0m        \u001b[0miaa\u001b[0m\u001b[0;34m.\u001b[0m\u001b[0mFliplr\u001b[0m\u001b[0;34m(\u001b[0m\u001b[0;36m1.0\u001b[0m\u001b[0;34m)\u001b[0m\u001b[0;34m\u001b[0m\u001b[0;34m\u001b[0m\u001b[0m\n\u001b[1;32m      7\u001b[0m ]\n\u001b[0;32m----> 8\u001b[0;31m \u001b[0mgen\u001b[0m \u001b[0;34m=\u001b[0m \u001b[0mGenerator\u001b[0m\u001b[0;34m(\u001b[0m\u001b[0msrc_path\u001b[0m\u001b[0;34m,\u001b[0m \u001b[0minput_shape\u001b[0m\u001b[0;34m,\u001b[0m \u001b[0mbatch_size\u001b[0m\u001b[0;34m,\u001b[0m \u001b[0maugs\u001b[0m\u001b[0;34m=\u001b[0m\u001b[0maugs\u001b[0m\u001b[0;34m,\u001b[0m \u001b[0mis_train\u001b[0m\u001b[0;34m=\u001b[0m\u001b[0;32mTrue\u001b[0m\u001b[0;34m)\u001b[0m\u001b[0;34m\u001b[0m\u001b[0;34m\u001b[0m\u001b[0m\n\u001b[0m\u001b[1;32m      9\u001b[0m \u001b[0mgen\u001b[0m\u001b[0;34m.\u001b[0m\u001b[0m__getitem__\u001b[0m\u001b[0;34m(\u001b[0m\u001b[0;36m0\u001b[0m\u001b[0;34m)\u001b[0m\u001b[0;34m\u001b[0m\u001b[0;34m\u001b[0m\u001b[0m\n",
            "\u001b[0;32m<ipython-input-22-58ab365249e4>\u001b[0m in \u001b[0;36m__init__\u001b[0;34m(self, src_path, input_shape, batch_size, augs, split_ratio, is_train)\u001b[0m\n\u001b[1;32m     46\u001b[0m                 \u001b[0mself\u001b[0m\u001b[0;34m.\u001b[0m\u001b[0mx_data\u001b[0m \u001b[0;34m+=\u001b[0m\u001b[0mimage_paths\u001b[0m\u001b[0;34m[\u001b[0m\u001b[0mround\u001b[0m\u001b[0;34m(\u001b[0m\u001b[0mimage_len\u001b[0m\u001b[0;34m*\u001b[0m\u001b[0msplit_ratio\u001b[0m\u001b[0;34m)\u001b[0m\u001b[0;34m:\u001b[0m\u001b[0;34m]\u001b[0m\u001b[0;34m\u001b[0m\u001b[0;34m\u001b[0m\u001b[0m\n\u001b[1;32m     47\u001b[0m \u001b[0;34m\u001b[0m\u001b[0m\n\u001b[0;32m---> 48\u001b[0;31m             \u001b[0;32mfor\u001b[0m \u001b[0mi\u001b[0m \u001b[0;32min\u001b[0m \u001b[0mrange\u001b[0m\u001b[0;34m(\u001b[0m\u001b[0mself\u001b[0m\u001b[0;34m.\u001b[0m\u001b[0mx_data\u001b[0m\u001b[0;34m)\u001b[0m\u001b[0;34m:\u001b[0m\u001b[0;34m\u001b[0m\u001b[0;34m\u001b[0m\u001b[0m\n\u001b[0m\u001b[1;32m     49\u001b[0m                 \u001b[0mself\u001b[0m\u001b[0;34m.\u001b[0m\u001b[0my_data\u001b[0m\u001b[0;34m.\u001b[0m\u001b[0mappend\u001b[0m\u001b[0;34m(\u001b[0m\u001b[0mclasses\u001b[0m\u001b[0;34m[\u001b[0m\u001b[0maction\u001b[0m\u001b[0;34m]\u001b[0m\u001b[0;34m)\u001b[0m\u001b[0;34m\u001b[0m\u001b[0;34m\u001b[0m\u001b[0m\n\u001b[1;32m     50\u001b[0m \u001b[0;34m\u001b[0m\u001b[0m\n",
            "\u001b[0;31mTypeError\u001b[0m: 'list' object cannot be interpreted as an integer"
          ]
        }
      ]
    },
    {
      "cell_type": "markdown",
      "metadata": {
        "id": "11Z3ZKIlQitL"
      },
      "source": [
        "# Prediction"
      ]
    },
    {
      "cell_type": "code",
      "metadata": {
        "colab": {
          "base_uri": "https://localhost:8080/"
        },
        "id": "3a8h-GX2QlIJ",
        "outputId": "abc96e03-a729-4f72-cbae-0fb9cc53d2a3"
      },
      "source": [
        "src_path = '/gdrive/MyDrive/dacon/handSignal'\n",
        "\n",
        "new_test_image_directory = src_path + '/new_images/test'\n",
        "new_test_image_directories = sorted(glob(new_test_image_directory + '/*'), key = lambda x : int(x.split('file_')[-1]))\n",
        "model = buildModel()\n",
        "model.load_weights(src_path+\"/save_weights/effient_00022.h5\")\n",
        "\n",
        "predictions = []\n",
        "for new_test_image_directory in tqdm(new_test_image_directories, total = len(new_test_image_directories)) :\n",
        "    image_paths = sorted(glob(new_test_image_directory + '/*.jpg'), key = lambda x : int(x.split('/')[-1].replace('.jpg','')))\n",
        "    image_len = len(image_paths)\n",
        "    test_images  = []\n",
        "    for image_path in image_paths:\n",
        "        img = cv2.imread(image_path)\n",
        "        img = cv2.resize(img, (224, 224))\n",
        "        img = img/255\n",
        "        test_images.append(img)\n",
        "    prediction = np.mean(model.predict(np.array(test_images)), axis = 0)\n",
        "    predictions.append(prediction)"
      ],
      "execution_count": null,
      "outputs": [
        {
          "output_type": "stream",
          "name": "stderr",
          "text": [
            "100%|██████████| 45/45 [32:07<00:00, 42.84s/it]\n"
          ]
        }
      ]
    },
    {
      "cell_type": "code",
      "metadata": {
        "colab": {
          "base_uri": "https://localhost:8080/",
          "height": 206
        },
        "id": "p6VBAqminuFh",
        "outputId": "09bb2506-11d7-4709-a131-fc2c37b51468"
      },
      "source": [
        "sample_submission = pd.read_csv(src_path + '/sample_submission.csv')\n",
        "sample_submission.iloc[:,1:] = predictions\n",
        "display(sample_submission.head())\n",
        "sample_submission.to_csv(src_path+'/effcientB0_3.csv', index=False)"
      ],
      "execution_count": null,
      "outputs": [
        {
          "output_type": "display_data",
          "data": {
            "text/html": [
              "<div>\n",
              "<style scoped>\n",
              "    .dataframe tbody tr th:only-of-type {\n",
              "        vertical-align: middle;\n",
              "    }\n",
              "\n",
              "    .dataframe tbody tr th {\n",
              "        vertical-align: top;\n",
              "    }\n",
              "\n",
              "    .dataframe thead th {\n",
              "        text-align: right;\n",
              "    }\n",
              "</style>\n",
              "<table border=\"1\" class=\"dataframe\">\n",
              "  <thead>\n",
              "    <tr style=\"text-align: right;\">\n",
              "      <th></th>\n",
              "      <th>file_path</th>\n",
              "      <th>Label_0</th>\n",
              "      <th>Label_1</th>\n",
              "      <th>Label_2</th>\n",
              "      <th>Label_3</th>\n",
              "      <th>Label_4</th>\n",
              "      <th>Label_5</th>\n",
              "    </tr>\n",
              "  </thead>\n",
              "  <tbody>\n",
              "    <tr>\n",
              "      <th>0</th>\n",
              "      <td>./test\\file_142</td>\n",
              "      <td>1.175328e-02</td>\n",
              "      <td>7.120891e-03</td>\n",
              "      <td>4.155934e-01</td>\n",
              "      <td>5.422419e-01</td>\n",
              "      <td>3.936142e-03</td>\n",
              "      <td>1.935453e-02</td>\n",
              "    </tr>\n",
              "    <tr>\n",
              "      <th>1</th>\n",
              "      <td>./test\\file_143</td>\n",
              "      <td>9.483405e-10</td>\n",
              "      <td>1.015056e-15</td>\n",
              "      <td>5.341049e-04</td>\n",
              "      <td>3.173556e-13</td>\n",
              "      <td>1.380441e-16</td>\n",
              "      <td>9.994661e-01</td>\n",
              "    </tr>\n",
              "    <tr>\n",
              "      <th>2</th>\n",
              "      <td>./test\\file_144</td>\n",
              "      <td>1.887312e-03</td>\n",
              "      <td>9.407359e-04</td>\n",
              "      <td>1.304676e-01</td>\n",
              "      <td>8.606133e-01</td>\n",
              "      <td>5.755061e-04</td>\n",
              "      <td>5.515538e-03</td>\n",
              "    </tr>\n",
              "    <tr>\n",
              "      <th>3</th>\n",
              "      <td>./test\\file_145</td>\n",
              "      <td>1.530295e-03</td>\n",
              "      <td>1.113463e-04</td>\n",
              "      <td>8.130416e-01</td>\n",
              "      <td>8.722627e-04</td>\n",
              "      <td>2.200164e-05</td>\n",
              "      <td>1.844224e-01</td>\n",
              "    </tr>\n",
              "    <tr>\n",
              "      <th>4</th>\n",
              "      <td>./test\\file_146</td>\n",
              "      <td>9.981704e-01</td>\n",
              "      <td>1.829489e-03</td>\n",
              "      <td>1.021436e-10</td>\n",
              "      <td>6.640961e-09</td>\n",
              "      <td>1.677697e-07</td>\n",
              "      <td>1.175347e-09</td>\n",
              "    </tr>\n",
              "  </tbody>\n",
              "</table>\n",
              "</div>"
            ],
            "text/plain": [
              "         file_path       Label_0  ...       Label_4       Label_5\n",
              "0  ./test\\file_142  1.175328e-02  ...  3.936142e-03  1.935453e-02\n",
              "1  ./test\\file_143  9.483405e-10  ...  1.380441e-16  9.994661e-01\n",
              "2  ./test\\file_144  1.887312e-03  ...  5.755061e-04  5.515538e-03\n",
              "3  ./test\\file_145  1.530295e-03  ...  2.200164e-05  1.844224e-01\n",
              "4  ./test\\file_146  9.981704e-01  ...  1.677697e-07  1.175347e-09\n",
              "\n",
              "[5 rows x 7 columns]"
            ]
          },
          "metadata": {}
        }
      ]
    }
  ]
}