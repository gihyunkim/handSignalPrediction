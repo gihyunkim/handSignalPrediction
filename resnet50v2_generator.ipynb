{
  "nbformat": 4,
  "nbformat_minor": 0,
  "metadata": {
    "accelerator": "GPU",
    "colab": {
      "name": "dacon_generator_final.ipynb",
      "provenance": [],
      "machine_shape": "hm"
    },
    "kernelspec": {
      "display_name": "Python 3",
      "name": "python3"
    },
    "language_info": {
      "name": "python"
    }
  },
  "cells": [
    {
      "cell_type": "code",
      "metadata": {
        "id": "SO1WHtKTDjsN"
      },
      "source": [
        "#drive.mount('/gdrive', force_remount=True)"
      ],
      "execution_count": null,
      "outputs": []
    },
    {
      "cell_type": "code",
      "metadata": {
        "colab": {
          "base_uri": "https://localhost:8080/"
        },
        "id": "d0jK1p-V9cOB",
        "outputId": "39380417-23b0-4831-ce6e-9ae0fa5ddd8b"
      },
      "source": [
        "from google.colab import drive\n",
        "drive.mount('/content/drive')"
      ],
      "execution_count": 1,
      "outputs": [
        {
          "output_type": "stream",
          "name": "stdout",
          "text": [
            "Mounted at /content/drive\n"
          ]
        }
      ]
    },
    {
      "cell_type": "code",
      "metadata": {
        "colab": {
          "base_uri": "https://localhost:8080/"
        },
        "id": "EHbRrkcAly8y",
        "outputId": "512b9152-1ab8-46ae-c99e-3c0a6a0d20d2"
      },
      "source": [
        "from tensorflow.python.client import device_lib\n",
        "device_lib.list_local_devices()"
      ],
      "execution_count": 2,
      "outputs": [
        {
          "output_type": "execute_result",
          "data": {
            "text/plain": [
              "[name: \"/device:CPU:0\"\n",
              " device_type: \"CPU\"\n",
              " memory_limit: 268435456\n",
              " locality {\n",
              " }\n",
              " incarnation: 11943450570399094868, name: \"/device:GPU:0\"\n",
              " device_type: \"GPU\"\n",
              " memory_limit: 16185556992\n",
              " locality {\n",
              "   bus_id: 1\n",
              "   links {\n",
              "   }\n",
              " }\n",
              " incarnation: 6674932749774634881\n",
              " physical_device_desc: \"device: 0, name: Tesla P100-PCIE-16GB, pci bus id: 0000:00:04.0, compute capability: 6.0\"]"
            ]
          },
          "metadata": {},
          "execution_count": 2
        }
      ]
    },
    {
      "cell_type": "code",
      "metadata": {
        "colab": {
          "base_uri": "https://localhost:8080/",
          "height": 35
        },
        "id": "mNV5bcR3u8Hh",
        "outputId": "1eb05303-8236-4f48-b23b-bedf52296c90"
      },
      "source": [
        "import keras\n",
        "keras.__version__"
      ],
      "execution_count": 3,
      "outputs": [
        {
          "output_type": "execute_result",
          "data": {
            "application/vnd.google.colaboratory.intrinsic+json": {
              "type": "string"
            },
            "text/plain": [
              "'2.6.0'"
            ]
          },
          "metadata": {},
          "execution_count": 3
        }
      ]
    },
    {
      "cell_type": "code",
      "metadata": {
        "colab": {
          "base_uri": "https://localhost:8080/"
        },
        "id": "TbuecIGirgDC",
        "outputId": "1085f721-bad9-4ff4-8c4b-804dd73b79e8"
      },
      "source": [
        "!pip install imgaug --upgrade"
      ],
      "execution_count": 4,
      "outputs": [
        {
          "output_type": "stream",
          "name": "stdout",
          "text": [
            "Requirement already satisfied: imgaug in /usr/local/lib/python3.7/dist-packages (0.2.9)\n",
            "Collecting imgaug\n",
            "  Downloading imgaug-0.4.0-py2.py3-none-any.whl (948 kB)\n",
            "\u001b[K     |████████████████████████████████| 948 kB 2.7 MB/s \n",
            "\u001b[?25hRequirement already satisfied: imageio in /usr/local/lib/python3.7/dist-packages (from imgaug) (2.4.1)\n",
            "Requirement already satisfied: Pillow in /usr/local/lib/python3.7/dist-packages (from imgaug) (7.1.2)\n",
            "Requirement already satisfied: six in /usr/local/lib/python3.7/dist-packages (from imgaug) (1.15.0)\n",
            "Requirement already satisfied: opencv-python in /usr/local/lib/python3.7/dist-packages (from imgaug) (4.1.2.30)\n",
            "Requirement already satisfied: scipy in /usr/local/lib/python3.7/dist-packages (from imgaug) (1.4.1)\n",
            "Requirement already satisfied: matplotlib in /usr/local/lib/python3.7/dist-packages (from imgaug) (3.2.2)\n",
            "Requirement already satisfied: scikit-image>=0.14.2 in /usr/local/lib/python3.7/dist-packages (from imgaug) (0.16.2)\n",
            "Requirement already satisfied: Shapely in /usr/local/lib/python3.7/dist-packages (from imgaug) (1.7.1)\n",
            "Requirement already satisfied: numpy>=1.15 in /usr/local/lib/python3.7/dist-packages (from imgaug) (1.19.5)\n",
            "Requirement already satisfied: networkx>=2.0 in /usr/local/lib/python3.7/dist-packages (from scikit-image>=0.14.2->imgaug) (2.6.3)\n",
            "Requirement already satisfied: PyWavelets>=0.4.0 in /usr/local/lib/python3.7/dist-packages (from scikit-image>=0.14.2->imgaug) (1.1.1)\n",
            "Requirement already satisfied: kiwisolver>=1.0.1 in /usr/local/lib/python3.7/dist-packages (from matplotlib->imgaug) (1.3.2)\n",
            "Requirement already satisfied: pyparsing!=2.0.4,!=2.1.2,!=2.1.6,>=2.0.1 in /usr/local/lib/python3.7/dist-packages (from matplotlib->imgaug) (2.4.7)\n",
            "Requirement already satisfied: cycler>=0.10 in /usr/local/lib/python3.7/dist-packages (from matplotlib->imgaug) (0.10.0)\n",
            "Requirement already satisfied: python-dateutil>=2.1 in /usr/local/lib/python3.7/dist-packages (from matplotlib->imgaug) (2.8.2)\n",
            "Installing collected packages: imgaug\n",
            "  Attempting uninstall: imgaug\n",
            "    Found existing installation: imgaug 0.2.9\n",
            "    Uninstalling imgaug-0.2.9:\n",
            "      Successfully uninstalled imgaug-0.2.9\n",
            "\u001b[31mERROR: pip's dependency resolver does not currently take into account all the packages that are installed. This behaviour is the source of the following dependency conflicts.\n",
            "albumentations 0.1.12 requires imgaug<0.2.7,>=0.2.5, but you have imgaug 0.4.0 which is incompatible.\u001b[0m\n",
            "Successfully installed imgaug-0.4.0\n"
          ]
        }
      ]
    },
    {
      "cell_type": "code",
      "metadata": {
        "id": "TDC-4dlNPJz2"
      },
      "source": [
        "# GPU 환경 설정\n",
        "import os\n",
        "# os.environ[\"CUDA_VISIBLE_DEVICES\"]=\"0\"\n",
        "\n",
        "# 파일경로 설정\n",
        "import json\n",
        "\n",
        "# 데이터 보기\n",
        "import pandas as pd\n",
        "import numpy as np\n",
        "from glob import glob\n",
        "\n",
        "# 이미지데이터 로딩\n",
        "import cv2\n",
        "from tqdm import tqdm\n",
        "\n",
        "# Others\n",
        "import warnings\n",
        "warnings.filterwarnings(\"ignore\")\n",
        "warnings.simplefilter('ignore')"
      ],
      "execution_count": 5,
      "outputs": []
    },
    {
      "cell_type": "code",
      "metadata": {
        "id": "0qGJhs2cVjo6"
      },
      "source": [
        "!unzip -qq \"/content/drive/MyDrive/Project/dacon/vision/new_images.zip\""
      ],
      "execution_count": 6,
      "outputs": []
    },
    {
      "cell_type": "code",
      "metadata": {
        "id": "n8M_AwT5PwsG"
      },
      "source": [
        "'''Generator'''\n",
        "from tensorflow.keras.utils import Sequence\n",
        "from google.colab.patches import cv2_imshow\n",
        "from imgaug import augmenters as iaa\n",
        "from imgaug.augmentables.batches import UnnormalizedBatch\n",
        "\n",
        "class Generator(Sequence):\n",
        "    def __init__(self, src_path, input_shape, batch_size, augs=None, is_train=True):\n",
        "        \n",
        "        new_image_directory = src_path + '/new_images'\n",
        "        new_train_image_directory = new_image_directory + '/train'\n",
        "\n",
        "        action_information = pd.read_csv(src_path + '/action_information.csv')\n",
        "\n",
        "        classes = pd.get_dummies(action_information[['Label']], columns = ['Label']).to_numpy()\n",
        "        \n",
        "        new_train_image_directories = sorted(glob(new_train_image_directory + '/*'), key = lambda x : int(x.split('/')[-1].split('_')[-1]))\n",
        "\n",
        "        train_answer = []\n",
        "        train_image_directories = sorted(glob(new_train_image_directory + '/*'), key = lambda x : int(x.split('_')[-1]))\n",
        "        for train_image_directory in train_image_directories : \n",
        "            json_path = glob(train_image_directory + '/*.json')[0]\n",
        "            js = json.load(open(json_path))\n",
        "            action = js.get('action')\n",
        "            train_answer.append(action)\n",
        "        \n",
        "        self.class_num = len(classes)\n",
        "        self.is_train = is_train\n",
        "        self.x_data = []\n",
        "        self.y_data = []\n",
        "        self.batch_size = batch_size\n",
        "        self.input_shape = input_shape\n",
        "        self.augs = iaa.Sequential(augs)\n",
        "\n",
        "        for new_train_image_directory, action in tqdm(zip(new_train_image_directories, train_answer), total = len(new_train_image_directories)) : \n",
        "            image_paths = sorted(glob(new_train_image_directory + '/*.jpg'), key = lambda x : int(x.split('/')[-1].replace('.jpg','')))\n",
        "            image_len = len(image_paths)\n",
        "            self.x_data +=image_paths\n",
        "            \n",
        "            for i in range(image_len):\n",
        "                self.y_data.append(classes[action])\n",
        "\n",
        "        self.on_epoch_end()\n",
        "        print(\"Generator Initialized!!\")\n",
        "    \n",
        "    def __len__(self):\n",
        "        return round(len(self.x_data) / self.batch_size)\n",
        "    \n",
        "    def __getitem__(self, idx):\n",
        "        batch_x, batch_y = [], []\n",
        "        batch_index = self.index[idx * self.batch_size:(idx+1)*self.batch_size]\n",
        "        \n",
        "        for batch_i in batch_index:\n",
        "            batch_x.append(self.x_data[batch_i])\n",
        "            batch_y.append(self.y_data[batch_i])\n",
        "        \n",
        "        out_x, out_y = self.data_gen(batch_x, batch_y)\n",
        "        return out_x, out_y\n",
        "\n",
        "    def on_epoch_end(self):\n",
        "        self.index = np.arange(len(self.x_data))\n",
        "        if self.is_train:\n",
        "            np.random.shuffle(self.index)\n",
        "    \n",
        "    def data_gen(self, x ,y):\n",
        "        input_x = np.zeros((self.batch_size, self.input_shape[0], self.input_shape[1], 3), dtype=np.float)\n",
        "        input_y = np.zeros((self.batch_size, self.class_num), dtype=np.float)\n",
        "\n",
        "        imgs = []\n",
        "        for i in range(len(x)):\n",
        "            img = cv2.imread(x[i])\n",
        "            imgs.append(cv2.resize(img, (self.input_shape[0], self.input_shape[1])))\n",
        "        \n",
        "        batch_imgs = UnnormalizedBatch(images=imgs, data=y)\n",
        "        batch_aug_imgs = list(self.augs.augment_batches(batches=batch_imgs))\n",
        "\n",
        "        for i in range(len(x)):\n",
        "            aug_img = batch_aug_imgs[0].images_aug[i]\n",
        "            input_x[i]= aug_img.astype(np.float) / 255.0\n",
        "            input_y[i] = y[i]\n",
        "        return input_x, input_y\n",
        "        \n"
      ],
      "execution_count": 7,
      "outputs": []
    },
    {
      "cell_type": "code",
      "metadata": {
        "colab": {
          "base_uri": "https://localhost:8080/"
        },
        "id": "aj-xRiIb6fz7",
        "outputId": "21138d0f-6715-47c4-b684-fc451c76b648"
      },
      "source": [
        "!ls /content/drive/MyDrive/Project/dacon/vision/"
      ],
      "execution_count": 8,
      "outputs": [
        {
          "output_type": "stream",
          "name": "stdout",
          "text": [
            "new_images.zip\n"
          ]
        }
      ]
    },
    {
      "cell_type": "code",
      "metadata": {
        "id": "ia7YPfvY3Qps"
      },
      "source": [
        "import tensorflow as tf"
      ],
      "execution_count": 9,
      "outputs": []
    },
    {
      "cell_type": "code",
      "metadata": {
        "id": "KecP5uCOYWrM"
      },
      "source": [
        "from tensorflow.keras.applications import ResNet50V2\n",
        "from tensorflow.keras.layers import *\n",
        "from tensorflow.keras.models import Model\n",
        "\n",
        "def buildModel():\n",
        "    baseModel = ResNet50V2(input_shape = (224,224,3), weights='imagenet', include_top=False, )\n",
        "    baseModel.trainable = True\n",
        "    model_in = Input(shape = (224,224,3))\n",
        "    base_model = baseModel(model_in)\n",
        "    head_model = GlobalAveragePooling2D()(base_model)\n",
        "    head_model = Flatten(name=\"flatten\")(head_model)\n",
        "    head_model = Dense(256, activation = 'relu')(head_model)\n",
        "    head_model = Dropout(0.2)(head_model)\n",
        "    head_model = Dense(32, activation = 'relu')(head_model)\n",
        "    head_model = Dropout(0.2)(head_model)\n",
        "    head_model = Dense(8, activation = 'relu')(head_model)\n",
        "    head_model = Dropout(0.2)(head_model)\n",
        "    model_out = Dense(6, activation=\"softmax\")(head_model)\n",
        "\n",
        "    model = Model(inputs=model_in, outputs=model_out)\n",
        "    return model"
      ],
      "execution_count": 10,
      "outputs": []
    },
    {
      "cell_type": "code",
      "metadata": {
        "id": "PEB3bgtjqQge"
      },
      "source": [
        "import imgaug.augmenters as iaa\n",
        "\n",
        "augs =[\n",
        "       iaa.Fliplr(0.5),\n",
        "       \n",
        "        iaa.Sometimes(0.2,iaa.Sharpen()),\n",
        "       \n",
        "        iaa.SomeOf((1,2),[\n",
        "            iaa.MultiplyAndAddToBrightness(),\n",
        "            iaa.GammaContrast()\n",
        "        ]),\n",
        "\n",
        "        iaa.SomeOf((0,1), [\n",
        "            iaa.Sometimes(0.7, iaa.AdditiveGaussianNoise()),\n",
        "            iaa.Sometimes(0.7, iaa.GaussianBlur())\n",
        "        ]),\n",
        "\n",
        "        iaa.SomeOf((0,8),[\n",
        "            iaa.ShearX(),\n",
        "            iaa.ShearY(),\n",
        "            iaa.ScaleX(),\n",
        "            iaa.ScaleY(),\n",
        "            iaa.TranslateX(),\n",
        "            iaa.TranslateY(),\n",
        "            iaa.Sometimes(0.3, iaa.Affine()),\n",
        "            iaa.Sometimes(0.3, iaa.PerspectiveTransform()),\n",
        "        ]),\n",
        "\n",
        "        iaa.SomeOf((0,1),[\n",
        "            iaa.Sometimes(0.6, iaa.Dropout()),\n",
        "            iaa.Sometimes(0.6, iaa.CoarseDropout()),\n",
        "            iaa.Sometimes(0.6, iaa.Cutout())\n",
        "        ])\n",
        "]"
      ],
      "execution_count": 11,
      "outputs": []
    },
    {
      "cell_type": "code",
      "metadata": {
        "id": "LrsHxoUcfNqt"
      },
      "source": [
        "# Modeling\n",
        "import tensorflow as tf\n",
        "from tensorflow.keras.applications import imagenet_utils\n",
        "from tensorflow.keras.preprocessing import image\n",
        "from tensorflow.keras.optimizers import SGD, Adam\n",
        "from tensorflow.keras.callbacks import ReduceLROnPlateau, ModelCheckpoint, EarlyStopping\n",
        "\n",
        "'''Train options'''\n",
        "src_path = '/content/data'\n",
        "batch_size = 16\n",
        "input_shape = (224, 224)\n",
        "epochs = 100\n",
        "lr = 1e-4\n",
        "model_name = \"ResNet50V2\"\n",
        "filename = src_path+\"/save_weights/%s_{epoch:05d}.h5\"%(model_name)\n",
        "\n",
        "callback = [ReduceLROnPlateau(monitor='loss', factor=0.2, patience=3, verbose=1),\n",
        "            ModelCheckpoint(filename, monitor=\"loss\", save_best_only=True, save_weights_only=True, verbose=1),\n",
        "            EarlyStopping(monitor='loss', patience=5)]"
      ],
      "execution_count": 14,
      "outputs": []
    },
    {
      "cell_type": "code",
      "metadata": {
        "colab": {
          "base_uri": "https://localhost:8080/"
        },
        "id": "xMbzMEUN7yCq",
        "outputId": "7652202d-c94f-46e9-da6e-c972a519784e"
      },
      "source": [
        "'''Build Model'''\n",
        "with tf.device('/device:GPU:0'):\n",
        "    model = buildModel()\n",
        "\n",
        "    model.compile(loss='categorical_crossentropy',optimizer=SGD(learning_rate=lr, momentum=0.9), metrics=['accuracy'])\n",
        "\n",
        "\n",
        "    '''Train'''\n",
        "    train_gen = Generator(src_path, input_shape, batch_size, augs=None, is_train=True)\n",
        "    model.fit_generator(train_gen, epochs=epochs, max_queue_size=50, workers=32, callbacks=callback)"
      ],
      "execution_count": 16,
      "outputs": [
        {
          "output_type": "stream",
          "name": "stderr",
          "text": [
            "100%|██████████| 142/142 [00:00<00:00, 1765.35it/s]\n"
          ]
        },
        {
          "output_type": "stream",
          "name": "stdout",
          "text": [
            "Generator Initialized!!\n",
            "Epoch 1/100\n",
            "1389/1389 [==============================] - 153s 95ms/step - loss: 1.5441 - accuracy: 0.3541\n",
            "\n",
            "Epoch 00001: loss improved from inf to 1.54409, saving model to /content/data/save_weights/ResNet50V2_00001.h5\n",
            "Epoch 2/100\n",
            "1389/1389 [==============================] - 133s 96ms/step - loss: 0.8839 - accuracy: 0.6556\n",
            "\n",
            "Epoch 00002: loss improved from 1.54409 to 0.88387, saving model to /content/data/save_weights/ResNet50V2_00002.h5\n",
            "Epoch 3/100\n",
            "1389/1389 [==============================] - 133s 95ms/step - loss: 0.4986 - accuracy: 0.8076\n",
            "\n",
            "Epoch 00003: loss improved from 0.88387 to 0.49856, saving model to /content/data/save_weights/ResNet50V2_00003.h5\n",
            "Epoch 4/100\n",
            "1389/1389 [==============================] - 133s 96ms/step - loss: 0.3215 - accuracy: 0.8777\n",
            "\n",
            "Epoch 00004: loss improved from 0.49856 to 0.32151, saving model to /content/data/save_weights/ResNet50V2_00004.h5\n",
            "Epoch 5/100\n",
            "1389/1389 [==============================] - 133s 96ms/step - loss: 0.2500 - accuracy: 0.9034\n",
            "\n",
            "Epoch 00005: loss improved from 0.32151 to 0.25003, saving model to /content/data/save_weights/ResNet50V2_00005.h5\n",
            "Epoch 6/100\n",
            "1389/1389 [==============================] - 133s 96ms/step - loss: 0.2066 - accuracy: 0.9144\n",
            "\n",
            "Epoch 00006: loss improved from 0.25003 to 0.20664, saving model to /content/data/save_weights/ResNet50V2_00006.h5\n",
            "Epoch 7/100\n",
            "1389/1389 [==============================] - 133s 95ms/step - loss: 0.1853 - accuracy: 0.9255\n",
            "\n",
            "Epoch 00007: loss improved from 0.20664 to 0.18533, saving model to /content/data/save_weights/ResNet50V2_00007.h5\n",
            "Epoch 8/100\n",
            "1389/1389 [==============================] - 133s 96ms/step - loss: 0.1697 - accuracy: 0.9311\n",
            "\n",
            "Epoch 00008: loss improved from 0.18533 to 0.16968, saving model to /content/data/save_weights/ResNet50V2_00008.h5\n",
            "Epoch 9/100\n",
            "1389/1389 [==============================] - 133s 95ms/step - loss: 0.1617 - accuracy: 0.9323\n",
            "\n",
            "Epoch 00009: loss improved from 0.16968 to 0.16168, saving model to /content/data/save_weights/ResNet50V2_00009.h5\n",
            "Epoch 10/100\n",
            "1389/1389 [==============================] - 133s 95ms/step - loss: 0.1533 - accuracy: 0.9350\n",
            "\n",
            "Epoch 00010: loss improved from 0.16168 to 0.15334, saving model to /content/data/save_weights/ResNet50V2_00010.h5\n",
            "Epoch 11/100\n",
            "1389/1389 [==============================] - 133s 95ms/step - loss: 0.1556 - accuracy: 0.9349\n",
            "\n",
            "Epoch 00011: loss did not improve from 0.15334\n",
            "Epoch 12/100\n",
            "1389/1389 [==============================] - 133s 95ms/step - loss: 0.1397 - accuracy: 0.9425\n",
            "\n",
            "Epoch 00012: loss improved from 0.15334 to 0.13966, saving model to /content/data/save_weights/ResNet50V2_00012.h5\n",
            "Epoch 13/100\n",
            "1389/1389 [==============================] - 132s 95ms/step - loss: 0.1383 - accuracy: 0.9420\n",
            "\n",
            "Epoch 00013: loss improved from 0.13966 to 0.13827, saving model to /content/data/save_weights/ResNet50V2_00013.h5\n",
            "Epoch 14/100\n",
            "1389/1389 [==============================] - 133s 95ms/step - loss: 0.1353 - accuracy: 0.9449\n",
            "\n",
            "Epoch 00014: loss improved from 0.13827 to 0.13530, saving model to /content/data/save_weights/ResNet50V2_00014.h5\n",
            "Epoch 15/100\n",
            "1389/1389 [==============================] - 133s 95ms/step - loss: 0.1260 - accuracy: 0.9518\n",
            "\n",
            "Epoch 00015: loss improved from 0.13530 to 0.12602, saving model to /content/data/save_weights/ResNet50V2_00015.h5\n",
            "Epoch 16/100\n",
            "1389/1389 [==============================] - 133s 95ms/step - loss: 0.1321 - accuracy: 0.9480\n",
            "\n",
            "Epoch 00016: loss did not improve from 0.12602\n",
            "Epoch 17/100\n",
            "1389/1389 [==============================] - 133s 95ms/step - loss: 0.1314 - accuracy: 0.9485\n",
            "\n",
            "Epoch 00017: loss did not improve from 0.12602\n",
            "Epoch 18/100\n",
            "1389/1389 [==============================] - 133s 95ms/step - loss: 0.1222 - accuracy: 0.9523\n",
            "\n",
            "Epoch 00018: loss improved from 0.12602 to 0.12220, saving model to /content/data/save_weights/ResNet50V2_00018.h5\n",
            "Epoch 19/100\n",
            "1389/1389 [==============================] - 133s 96ms/step - loss: 0.1193 - accuracy: 0.9555\n",
            "\n",
            "Epoch 00019: loss improved from 0.12220 to 0.11925, saving model to /content/data/save_weights/ResNet50V2_00019.h5\n",
            "Epoch 20/100\n",
            "1389/1389 [==============================] - 133s 95ms/step - loss: 0.1260 - accuracy: 0.9548\n",
            "\n",
            "Epoch 00020: loss did not improve from 0.11925\n",
            "Epoch 21/100\n",
            "1389/1389 [==============================] - 133s 95ms/step - loss: 0.1193 - accuracy: 0.9582\n",
            "\n",
            "Epoch 00021: loss did not improve from 0.11925\n",
            "Epoch 22/100\n",
            "1389/1389 [==============================] - 133s 95ms/step - loss: 0.1171 - accuracy: 0.9582\n",
            "\n",
            "Epoch 00022: loss improved from 0.11925 to 0.11711, saving model to /content/data/save_weights/ResNet50V2_00022.h5\n",
            "Epoch 23/100\n",
            "1389/1389 [==============================] - 133s 96ms/step - loss: 0.1155 - accuracy: 0.9579\n",
            "\n",
            "Epoch 00023: loss improved from 0.11711 to 0.11549, saving model to /content/data/save_weights/ResNet50V2_00023.h5\n",
            "Epoch 24/100\n",
            "1389/1389 [==============================] - 133s 96ms/step - loss: 0.1127 - accuracy: 0.9624\n",
            "\n",
            "Epoch 00024: loss improved from 0.11549 to 0.11274, saving model to /content/data/save_weights/ResNet50V2_00024.h5\n",
            "Epoch 25/100\n",
            "1389/1389 [==============================] - 133s 95ms/step - loss: 0.1111 - accuracy: 0.9634\n",
            "\n",
            "Epoch 00025: loss improved from 0.11274 to 0.11112, saving model to /content/data/save_weights/ResNet50V2_00025.h5\n",
            "Epoch 26/100\n",
            "1389/1389 [==============================] - 133s 96ms/step - loss: 0.1176 - accuracy: 0.9593\n",
            "\n",
            "Epoch 00026: loss did not improve from 0.11112\n",
            "Epoch 27/100\n",
            "1389/1389 [==============================] - 133s 95ms/step - loss: 0.1099 - accuracy: 0.9612\n",
            "\n",
            "Epoch 00027: loss improved from 0.11112 to 0.10992, saving model to /content/data/save_weights/ResNet50V2_00027.h5\n",
            "Epoch 28/100\n",
            "1389/1389 [==============================] - 133s 95ms/step - loss: 0.1113 - accuracy: 0.9604\n",
            "\n",
            "Epoch 00028: loss did not improve from 0.10992\n",
            "Epoch 29/100\n",
            "1389/1389 [==============================] - 133s 96ms/step - loss: 0.1064 - accuracy: 0.9633\n",
            "\n",
            "Epoch 00029: loss improved from 0.10992 to 0.10639, saving model to /content/data/save_weights/ResNet50V2_00029.h5\n",
            "Epoch 30/100\n",
            "1389/1389 [==============================] - 133s 96ms/step - loss: 0.1083 - accuracy: 0.9618\n",
            "\n",
            "Epoch 00030: loss did not improve from 0.10639\n",
            "Epoch 31/100\n",
            "1389/1389 [==============================] - 133s 96ms/step - loss: 0.1075 - accuracy: 0.9628\n",
            "\n",
            "Epoch 00031: loss did not improve from 0.10639\n",
            "Epoch 32/100\n",
            "1389/1389 [==============================] - 133s 95ms/step - loss: 0.1036 - accuracy: 0.9635\n",
            "\n",
            "Epoch 00032: loss improved from 0.10639 to 0.10356, saving model to /content/data/save_weights/ResNet50V2_00032.h5\n",
            "Epoch 33/100\n",
            "1389/1389 [==============================] - 133s 95ms/step - loss: 0.1081 - accuracy: 0.9617\n",
            "\n",
            "Epoch 00033: loss did not improve from 0.10356\n",
            "Epoch 34/100\n",
            "1389/1389 [==============================] - 133s 95ms/step - loss: 0.1052 - accuracy: 0.9641\n",
            "\n",
            "Epoch 00034: loss did not improve from 0.10356\n",
            "Epoch 35/100\n",
            "1389/1389 [==============================] - 133s 95ms/step - loss: 0.1051 - accuracy: 0.9640\n",
            "\n",
            "Epoch 00035: ReduceLROnPlateau reducing learning rate to 1.9999999494757503e-05.\n",
            "\n",
            "Epoch 00035: loss did not improve from 0.10356\n",
            "Epoch 36/100\n",
            "1389/1389 [==============================] - 133s 95ms/step - loss: 0.1006 - accuracy: 0.9649\n",
            "\n",
            "Epoch 00036: loss improved from 0.10356 to 0.10063, saving model to /content/data/save_weights/ResNet50V2_00036.h5\n",
            "Epoch 37/100\n",
            "1389/1389 [==============================] - 133s 95ms/step - loss: 0.0993 - accuracy: 0.9659\n",
            "\n",
            "Epoch 00037: loss improved from 0.10063 to 0.09934, saving model to /content/data/save_weights/ResNet50V2_00037.h5\n",
            "Epoch 38/100\n",
            "1389/1389 [==============================] - 132s 95ms/step - loss: 0.1026 - accuracy: 0.9626\n",
            "\n",
            "Epoch 00038: loss did not improve from 0.09934\n",
            "Epoch 39/100\n",
            "1389/1389 [==============================] - 133s 95ms/step - loss: 0.1035 - accuracy: 0.9631\n",
            "\n",
            "Epoch 00039: loss did not improve from 0.09934\n",
            "Epoch 40/100\n",
            "1389/1389 [==============================] - 133s 95ms/step - loss: 0.1013 - accuracy: 0.9641\n",
            "\n",
            "Epoch 00040: ReduceLROnPlateau reducing learning rate to 3.999999898951501e-06.\n",
            "\n",
            "Epoch 00040: loss did not improve from 0.09934\n",
            "Epoch 41/100\n",
            "1389/1389 [==============================] - 133s 95ms/step - loss: 0.1006 - accuracy: 0.9663\n",
            "\n",
            "Epoch 00041: loss did not improve from 0.09934\n",
            "Epoch 42/100\n",
            "1389/1389 [==============================] - 133s 95ms/step - loss: 0.0980 - accuracy: 0.9665\n",
            "\n",
            "Epoch 00042: loss improved from 0.09934 to 0.09803, saving model to /content/data/save_weights/ResNet50V2_00042.h5\n",
            "Epoch 43/100\n",
            "1389/1389 [==============================] - 133s 95ms/step - loss: 0.0995 - accuracy: 0.9649\n",
            "\n",
            "Epoch 00043: loss did not improve from 0.09803\n",
            "Epoch 44/100\n",
            "1389/1389 [==============================] - 133s 95ms/step - loss: 0.0999 - accuracy: 0.9642\n",
            "\n",
            "Epoch 00044: loss did not improve from 0.09803\n",
            "Epoch 45/100\n",
            "1389/1389 [==============================] - 133s 95ms/step - loss: 0.1026 - accuracy: 0.9631\n",
            "\n",
            "Epoch 00045: ReduceLROnPlateau reducing learning rate to 7.999999979801942e-07.\n",
            "\n",
            "Epoch 00045: loss did not improve from 0.09803\n",
            "Epoch 46/100\n",
            "1389/1389 [==============================] - 133s 95ms/step - loss: 0.1005 - accuracy: 0.9654\n",
            "\n",
            "Epoch 00046: loss did not improve from 0.09803\n",
            "Epoch 47/100\n",
            "1389/1389 [==============================] - 133s 96ms/step - loss: 0.0974 - accuracy: 0.9666\n",
            "\n",
            "Epoch 00047: loss improved from 0.09803 to 0.09739, saving model to /content/data/save_weights/ResNet50V2_00047.h5\n",
            "Epoch 48/100\n",
            "1389/1389 [==============================] - 133s 96ms/step - loss: 0.1014 - accuracy: 0.9645\n",
            "\n",
            "Epoch 00048: loss did not improve from 0.09739\n",
            "Epoch 49/100\n",
            "1389/1389 [==============================] - 133s 95ms/step - loss: 0.0971 - accuracy: 0.9662\n",
            "\n",
            "Epoch 00049: loss improved from 0.09739 to 0.09715, saving model to /content/data/save_weights/ResNet50V2_00049.h5\n",
            "Epoch 50/100\n",
            "1389/1389 [==============================] - 133s 95ms/step - loss: 0.1071 - accuracy: 0.9623\n",
            "\n",
            "Epoch 00050: loss did not improve from 0.09715\n",
            "Epoch 51/100\n",
            "1389/1389 [==============================] - 133s 95ms/step - loss: 0.0945 - accuracy: 0.9669\n",
            "\n",
            "Epoch 00051: loss improved from 0.09715 to 0.09449, saving model to /content/data/save_weights/ResNet50V2_00051.h5\n",
            "Epoch 52/100\n",
            "1389/1389 [==============================] - 133s 96ms/step - loss: 0.0939 - accuracy: 0.9675\n",
            "\n",
            "Epoch 00052: loss improved from 0.09449 to 0.09390, saving model to /content/data/save_weights/ResNet50V2_00052.h5\n",
            "Epoch 53/100\n",
            "1389/1389 [==============================] - 133s 95ms/step - loss: 0.1055 - accuracy: 0.9635\n",
            "\n",
            "Epoch 00053: loss did not improve from 0.09390\n",
            "Epoch 54/100\n",
            "1389/1389 [==============================] - 132s 95ms/step - loss: 0.1010 - accuracy: 0.9637\n",
            "\n",
            "Epoch 00054: loss did not improve from 0.09390\n",
            "Epoch 55/100\n",
            "1389/1389 [==============================] - 133s 95ms/step - loss: 0.1037 - accuracy: 0.9631\n",
            "\n",
            "Epoch 00055: ReduceLROnPlateau reducing learning rate to 1.600000018697756e-07.\n",
            "\n",
            "Epoch 00055: loss did not improve from 0.09390\n",
            "Epoch 56/100\n",
            "1389/1389 [==============================] - 133s 95ms/step - loss: 0.0971 - accuracy: 0.9668\n",
            "\n",
            "Epoch 00056: loss did not improve from 0.09390\n",
            "Epoch 57/100\n",
            "1389/1389 [==============================] - 133s 95ms/step - loss: 0.1029 - accuracy: 0.9636\n",
            "\n",
            "Epoch 00057: loss did not improve from 0.09390\n"
          ]
        }
      ]
    },
    {
      "cell_type": "code",
      "metadata": {
        "colab": {
          "base_uri": "https://localhost:8080/"
        },
        "id": "AN_BPbBcpFlL",
        "outputId": "53fccb32-1fd5-468a-8e2a-1584cb396089"
      },
      "source": [
        "!nvidia-smi  "
      ],
      "execution_count": 17,
      "outputs": [
        {
          "output_type": "stream",
          "name": "stdout",
          "text": [
            "Thu Oct 14 02:23:48 2021       \n",
            "+-----------------------------------------------------------------------------+\n",
            "| NVIDIA-SMI 470.74       Driver Version: 460.32.03    CUDA Version: 11.2     |\n",
            "|-------------------------------+----------------------+----------------------+\n",
            "| GPU  Name        Persistence-M| Bus-Id        Disp.A | Volatile Uncorr. ECC |\n",
            "| Fan  Temp  Perf  Pwr:Usage/Cap|         Memory-Usage | GPU-Util  Compute M. |\n",
            "|                               |                      |               MIG M. |\n",
            "|===============================+======================+======================|\n",
            "|   0  Tesla P100-PCIE...  Off  | 00000000:00:04.0 Off |                    0 |\n",
            "| N/A   43C    P0    34W / 250W |   8737MiB / 16280MiB |      0%      Default |\n",
            "|                               |                      |                  N/A |\n",
            "+-------------------------------+----------------------+----------------------+\n",
            "                                                                               \n",
            "+-----------------------------------------------------------------------------+\n",
            "| Processes:                                                                  |\n",
            "|  GPU   GI   CI        PID   Type   Process name                  GPU Memory |\n",
            "|        ID   ID                                                   Usage      |\n",
            "|=============================================================================|\n",
            "|  No running processes found                                                 |\n",
            "+-----------------------------------------------------------------------------+\n"
          ]
        }
      ]
    },
    {
      "cell_type": "code",
      "metadata": {
        "colab": {
          "base_uri": "https://localhost:8080/"
        },
        "id": "PtYeR-TndYNW",
        "outputId": "5264d8cf-fc3d-4fe5-fe5a-adcaa2f2bedf"
      },
      "source": [
        "'''for test generator'''\n",
        "src_path = '/content/data'\n",
        "batch_size = 1\n",
        "input_shape = (224, 224)\n",
        "gen = Generator(src_path, input_shape, batch_size, is_train=True)\n",
        "gen.__getitem__(0)"
      ],
      "execution_count": 18,
      "outputs": [
        {
          "output_type": "stream",
          "name": "stderr",
          "text": [
            "100%|██████████| 142/142 [00:00<00:00, 1793.60it/s]"
          ]
        },
        {
          "output_type": "stream",
          "name": "stdout",
          "text": [
            "Generator Initialized!!\n"
          ]
        },
        {
          "output_type": "stream",
          "name": "stderr",
          "text": [
            "\n"
          ]
        },
        {
          "output_type": "execute_result",
          "data": {
            "text/plain": [
              "(array([[[[0.21960784, 0.30196078, 0.27058824],\n",
              "          [0.21960784, 0.30196078, 0.27058824],\n",
              "          [0.21960784, 0.30196078, 0.27058824],\n",
              "          ...,\n",
              "          [0.38823529, 0.45490196, 0.43921569],\n",
              "          [0.36078431, 0.42745098, 0.41176471],\n",
              "          [0.3372549 , 0.40392157, 0.38823529]],\n",
              " \n",
              "         [[0.16470588, 0.24705882, 0.21568627],\n",
              "          [0.16470588, 0.24705882, 0.21568627],\n",
              "          [0.16078431, 0.24313725, 0.21176471],\n",
              "          ...,\n",
              "          [0.40784314, 0.4745098 , 0.45882353],\n",
              "          [0.41176471, 0.47843137, 0.4627451 ],\n",
              "          [0.41176471, 0.47843137, 0.4627451 ]],\n",
              " \n",
              "         [[0.12941176, 0.21176471, 0.18039216],\n",
              "          [0.12941176, 0.21176471, 0.18039216],\n",
              "          [0.13333333, 0.21568627, 0.18431373],\n",
              "          ...,\n",
              "          [0.21568627, 0.28235294, 0.26666667],\n",
              "          [0.22352941, 0.29019608, 0.2745098 ],\n",
              "          [0.23137255, 0.29803922, 0.28235294]],\n",
              " \n",
              "         ...,\n",
              " \n",
              "         [[0.53333333, 0.56078431, 0.61960784],\n",
              "          [0.52941176, 0.55686275, 0.61568627],\n",
              "          [0.5254902 , 0.55294118, 0.61176471],\n",
              "          ...,\n",
              "          [0.50588235, 0.5372549 , 0.58823529],\n",
              "          [0.51764706, 0.54117647, 0.59215686],\n",
              "          [0.51372549, 0.54509804, 0.59607843]],\n",
              " \n",
              "         [[0.5254902 , 0.55294118, 0.61176471],\n",
              "          [0.5254902 , 0.55294118, 0.61176471],\n",
              "          [0.52156863, 0.54901961, 0.60784314],\n",
              "          ...,\n",
              "          [0.48235294, 0.51764706, 0.57254902],\n",
              "          [0.49019608, 0.51764706, 0.57647059],\n",
              "          [0.48627451, 0.52156863, 0.57647059]],\n",
              " \n",
              "         [[0.50196078, 0.52941176, 0.58823529],\n",
              "          [0.50588235, 0.53333333, 0.59215686],\n",
              "          [0.50980392, 0.5372549 , 0.59607843],\n",
              "          ...,\n",
              "          [0.49803922, 0.53333333, 0.58823529],\n",
              "          [0.49803922, 0.53333333, 0.58823529],\n",
              "          [0.49803922, 0.53333333, 0.58823529]]]]),\n",
              " array([[0., 0., 0., 0., 0., 1.]]))"
            ]
          },
          "metadata": {},
          "execution_count": 18
        }
      ]
    },
    {
      "cell_type": "markdown",
      "metadata": {
        "id": "11Z3ZKIlQitL"
      },
      "source": [
        "# Prediction"
      ]
    },
    {
      "cell_type": "code",
      "metadata": {
        "colab": {
          "base_uri": "https://localhost:8080/"
        },
        "id": "3a8h-GX2QlIJ",
        "outputId": "dea0873b-c6e5-4bce-93a4-b36705710ca8"
      },
      "source": [
        "src_path = '/content/data'\n",
        "\n",
        "new_test_image_directory = src_path + '/new_images/test'\n",
        "new_test_image_directories = sorted(glob(new_test_image_directory + '/*'), key = lambda x : int(x.split('file_')[-1]))\n",
        "model = buildModel()\n",
        "model.load_weights(src_path+\"/save_weights/ResNet50V2_00052.h5\")\n",
        "\n",
        "predictions = []\n",
        "for new_test_image_directory in tqdm(new_test_image_directories, total = len(new_test_image_directories)) :\n",
        "    image_paths = sorted(glob(new_test_image_directory + '/*.jpg'), key = lambda x : int(x.split('/')[-1].replace('.jpg','')))\n",
        "    image_len = len(image_paths)\n",
        "    test_images  = []\n",
        "    for image_path in image_paths:\n",
        "        img = cv2.imread(image_path)\n",
        "        img = cv2.resize(img, (224, 224))\n",
        "        img = img/255\n",
        "        test_images.append(img)\n",
        "    prediction = np.mean(model.predict(np.array(test_images)), axis = 0)\n",
        "    predictions.append(prediction)"
      ],
      "execution_count": 20,
      "outputs": [
        {
          "output_type": "stream",
          "name": "stderr",
          "text": [
            "100%|██████████| 45/45 [00:31<00:00,  1.45it/s]\n"
          ]
        }
      ]
    },
    {
      "cell_type": "code",
      "metadata": {
        "colab": {
          "base_uri": "https://localhost:8080/",
          "height": 203
        },
        "id": "wWD-Rqukvrv2",
        "outputId": "4a7e8e69-f974-44f5-e8df-15bb4ff9ede1"
      },
      "source": [
        "sample_submission = pd.read_csv(src_path + '/sample_submission.csv')\n",
        "sample_submission.iloc[:,1:] = predictions\n",
        "display(sample_submission.head())\n",
        "sample_submission.to_csv('/content/drive/MyDrive/ResNet50V2_None_aug.csv', index=False)"
      ],
      "execution_count": 21,
      "outputs": [
        {
          "output_type": "display_data",
          "data": {
            "text/html": [
              "<div>\n",
              "<style scoped>\n",
              "    .dataframe tbody tr th:only-of-type {\n",
              "        vertical-align: middle;\n",
              "    }\n",
              "\n",
              "    .dataframe tbody tr th {\n",
              "        vertical-align: top;\n",
              "    }\n",
              "\n",
              "    .dataframe thead th {\n",
              "        text-align: right;\n",
              "    }\n",
              "</style>\n",
              "<table border=\"1\" class=\"dataframe\">\n",
              "  <thead>\n",
              "    <tr style=\"text-align: right;\">\n",
              "      <th></th>\n",
              "      <th>file_path</th>\n",
              "      <th>Label_0</th>\n",
              "      <th>Label_1</th>\n",
              "      <th>Label_2</th>\n",
              "      <th>Label_3</th>\n",
              "      <th>Label_4</th>\n",
              "      <th>Label_5</th>\n",
              "    </tr>\n",
              "  </thead>\n",
              "  <tbody>\n",
              "    <tr>\n",
              "      <th>0</th>\n",
              "      <td>./test\\file_142</td>\n",
              "      <td>0.019513</td>\n",
              "      <td>0.001004</td>\n",
              "      <td>0.830342</td>\n",
              "      <td>0.007520</td>\n",
              "      <td>7.962286e-03</td>\n",
              "      <td>0.133659</td>\n",
              "    </tr>\n",
              "    <tr>\n",
              "      <th>1</th>\n",
              "      <td>./test\\file_143</td>\n",
              "      <td>0.001247</td>\n",
              "      <td>0.000008</td>\n",
              "      <td>0.000136</td>\n",
              "      <td>0.000178</td>\n",
              "      <td>4.978684e-04</td>\n",
              "      <td>0.997933</td>\n",
              "    </tr>\n",
              "    <tr>\n",
              "      <th>2</th>\n",
              "      <td>./test\\file_144</td>\n",
              "      <td>0.002709</td>\n",
              "      <td>0.000071</td>\n",
              "      <td>0.000001</td>\n",
              "      <td>0.968129</td>\n",
              "      <td>3.760524e-07</td>\n",
              "      <td>0.029089</td>\n",
              "    </tr>\n",
              "    <tr>\n",
              "      <th>3</th>\n",
              "      <td>./test\\file_145</td>\n",
              "      <td>0.029494</td>\n",
              "      <td>0.000153</td>\n",
              "      <td>0.772151</td>\n",
              "      <td>0.001168</td>\n",
              "      <td>8.717516e-03</td>\n",
              "      <td>0.188316</td>\n",
              "    </tr>\n",
              "    <tr>\n",
              "      <th>4</th>\n",
              "      <td>./test\\file_146</td>\n",
              "      <td>0.998040</td>\n",
              "      <td>0.000638</td>\n",
              "      <td>0.000034</td>\n",
              "      <td>0.000267</td>\n",
              "      <td>6.505124e-04</td>\n",
              "      <td>0.000371</td>\n",
              "    </tr>\n",
              "  </tbody>\n",
              "</table>\n",
              "</div>"
            ],
            "text/plain": [
              "         file_path   Label_0   Label_1  ...   Label_3       Label_4   Label_5\n",
              "0  ./test\\file_142  0.019513  0.001004  ...  0.007520  7.962286e-03  0.133659\n",
              "1  ./test\\file_143  0.001247  0.000008  ...  0.000178  4.978684e-04  0.997933\n",
              "2  ./test\\file_144  0.002709  0.000071  ...  0.968129  3.760524e-07  0.029089\n",
              "3  ./test\\file_145  0.029494  0.000153  ...  0.001168  8.717516e-03  0.188316\n",
              "4  ./test\\file_146  0.998040  0.000638  ...  0.000267  6.505124e-04  0.000371\n",
              "\n",
              "[5 rows x 7 columns]"
            ]
          },
          "metadata": {}
        }
      ]
    },
    {
      "cell_type": "code",
      "metadata": {
        "id": "p6VBAqminuFh"
      },
      "source": [
        "# sample_submission = pd.read_csv(src_path + '/sample_submission.csv')\n",
        "# sample_submission.iloc[:,1:] = predictions\n",
        "# display(sample_submission.head())\n",
        "# sample_submission.to_csv(src_path+'/Resnet50v2_Noneaug.csv', index=False)"
      ],
      "execution_count": null,
      "outputs": []
    },
    {
      "cell_type": "code",
      "metadata": {
        "id": "G4nKKIgv_lTN"
      },
      "source": [
        ""
      ],
      "execution_count": null,
      "outputs": []
    }
  ]
}